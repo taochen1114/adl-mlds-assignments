{
 "cells": [
  {
   "cell_type": "markdown",
   "metadata": {},
   "source": [
    "# ADLxMLDS HW0 Fashion MINST Using CNN\n",
    "https://docs.google.com/presentation/d/1wDkt52UAdVyjhkSAGcvk8O9ZxjDvUNWlt3vHqSF1kWM/edit#slide=id.g2626a5ce99_0_12"
   ]
  },
  {
   "cell_type": "code",
   "execution_count": 17,
   "metadata": {},
   "outputs": [],
   "source": [
    "# coding=utf-8\n",
    "import keras\n",
    "from keras.utils import np_utils\n",
    "from keras.models import Sequential\n",
    "from keras.layers import Dense, Activation, Convolution2D, MaxPooling2D, Flatten, Conv2D"
   ]
  },
  {
   "cell_type": "code",
   "execution_count": 3,
   "metadata": {
    "collapsed": true
   },
   "outputs": [],
   "source": [
    "import numpy as np\n",
    "import pandas as pd\n",
    "import matplotlib.pyplot as plt\n",
    "%matplotlib inline\n",
    "import binascii\n",
    "import random"
   ]
  },
  {
   "cell_type": "markdown",
   "metadata": {},
   "source": [
    "- Training data:\n",
    "    - train-images-idx3-ubyte.gz: training set images (60000 images)\n",
    "        - ignore first 16 bytes\n",
    "        - 784 bytes for each image (28*28)  -  0~255\n",
    "        - 60000 images\n",
    "        - same format in testing image file (10000 data)\n",
    "    - train-labels-idx1-ubyte.gz: training set labels (60000 labels)\n",
    "        - ignore first 8 bytes\n",
    "        - 60000 bytes for 60000 int  -  0~9\n",
    "        \n",
    "- Testing data:\n",
    "    - t10k-images-idx3-ubyte.gz: testing set images (10000 images)\n"
   ]
  },
  {
   "cell_type": "markdown",
   "metadata": {},
   "source": [
    "\n",
    "| Label  | Description    |\n",
    "|--------|----------------|\n",
    "| 0      | T-shirt / top  |\n",
    "| 1      | Trouser        |\n",
    "| 2      | Pullover       |\n",
    "| 3      | Dress          |\n",
    "| 4      | Coat           |\n",
    "| 5      | Sandal         |\n",
    "| 6      | Shirt          |\n",
    "| 7      | Sneaker        |\n",
    "| 8      | Bag            |\n",
    "| 9      | Ankle boot     |"
   ]
  },
  {
   "cell_type": "code",
   "execution_count": 4,
   "metadata": {
    "collapsed": true
   },
   "outputs": [],
   "source": [
    "data_dir = \"data/\"\n",
    "file_list = [\"t10k-images-idx3-ubyte\", \"train-images-idx3-ubyte\", \"train-labels-idx1-ubyte\"]\n",
    "label_dict = {0:\"T-shirt / top\", 1:\"Trouser\", 2:\"Pullover\", 3:\"Dress\", 4: \"Coat\",\n",
    "             5:\"Sandal\", 6:\"Shirt\", 7:\"Sneaker\", 8:\"Bag\", 9:\"Ankle boot\"}\n",
    "\n",
    "# 讀取圖片資料\n",
    "image_list = []\n",
    "with open( data_dir + file_list[1] , \"rb\") as f:\n",
    "    byte = f.read(16) # ignore 16 byte\n",
    "    while byte != b\"\":\n",
    "        image = []\n",
    "        for i in range(784):\n",
    "            byte = f.read(1)\n",
    "            b = int.from_bytes(byte, byteorder='big')\n",
    "            image.append(b)\n",
    "        image_list.append(image)\n",
    "\n",
    "# 讀取 Label 資料\n",
    "label_list = []\n",
    "with open( data_dir + file_list[2] , \"rb\") as f:\n",
    "    byte = f.read(8) # ignore 8 byte\n",
    "    while byte != b\"\":\n",
    "        byte = f.read(1)\n",
    "        b = int.from_bytes(byte, byteorder='big')\n",
    "        label_list.append(b)"
   ]
  },
  {
   "cell_type": "code",
   "execution_count": 171,
   "metadata": {
    "collapsed": true
   },
   "outputs": [],
   "source": [
    "byte =  binascii.hexlify(byte)"
   ]
  },
  {
   "cell_type": "code",
   "execution_count": 172,
   "metadata": {},
   "outputs": [
    {
     "data": {
      "text/plain": [
       "b''"
      ]
     },
     "execution_count": 172,
     "metadata": {},
     "output_type": "execute_result"
    }
   ],
   "source": [
    "byte"
   ]
  },
  {
   "cell_type": "code",
   "execution_count": 173,
   "metadata": {},
   "outputs": [
    {
     "data": {
      "text/plain": [
       "0"
      ]
     },
     "execution_count": 173,
     "metadata": {},
     "output_type": "execute_result"
    }
   ],
   "source": [
    "int.from_bytes(byte, byteorder='big')"
   ]
  },
  {
   "cell_type": "code",
   "execution_count": 188,
   "metadata": {},
   "outputs": [
    {
     "name": "stdout",
     "output_type": "stream",
     "text": [
      "60001\n",
      "60001\n"
     ]
    }
   ],
   "source": [
    "print(len(image_list))\n",
    "print(len(label_list))"
   ]
  },
  {
   "cell_type": "markdown",
   "metadata": {},
   "source": [
    "查看第一張圖片與 label "
   ]
  },
  {
   "cell_type": "code",
   "execution_count": 5,
   "metadata": {},
   "outputs": [
    {
     "data": {
      "text/plain": [
       "'Ankle boot'"
      ]
     },
     "execution_count": 5,
     "metadata": {},
     "output_type": "execute_result"
    }
   ],
   "source": [
    "img = np.array(image_list[0]).reshape(28,28)\n",
    "label_dict[label_list[0]]"
   ]
  },
  {
   "cell_type": "code",
   "execution_count": 6,
   "metadata": {},
   "outputs": [
    {
     "data": {
      "text/plain": [
       "<matplotlib.image.AxesImage at 0x1808180f0>"
      ]
     },
     "execution_count": 6,
     "metadata": {},
     "output_type": "execute_result"
    },
    {
     "data": {
      "image/png": "[encoded data removed]",
      "text/plain": [
       "<matplotlib.figure.Figure at 0x116a51b70>"
      ]
     },
     "metadata": {},
     "output_type": "display_data"
    }
   ],
   "source": [
    "plt.imshow(img, cmap='gray')"
   ]
  },
  {
   "cell_type": "markdown",
   "metadata": {},
   "source": [
    "查看第二張圖片與 label "
   ]
  },
  {
   "cell_type": "code",
   "execution_count": 7,
   "metadata": {},
   "outputs": [
    {
     "data": {
      "text/plain": [
       "'T-shirt / top'"
      ]
     },
     "execution_count": 7,
     "metadata": {},
     "output_type": "execute_result"
    }
   ],
   "source": [
    "img = np.array(image_list[1]).reshape(28,28)\n",
    "label_dict[label_list[1]]"
   ]
  },
  {
   "cell_type": "code",
   "execution_count": 8,
   "metadata": {},
   "outputs": [
    {
     "data": {
      "text/plain": [
       "<matplotlib.image.AxesImage at 0x180af18d0>"
      ]
     },
     "execution_count": 8,
     "metadata": {},
     "output_type": "execute_result"
    },
    {
     "data": {
      "image/png": "[encoded data removed]",
      "text/plain": [
       "<matplotlib.figure.Figure at 0x116a515c0>"
      ]
     },
     "metadata": {},
     "output_type": "display_data"
    }
   ],
   "source": [
    "plt.imshow(img, cmap='gray')"
   ]
  },
  {
   "cell_type": "markdown",
   "metadata": {},
   "source": [
    "查看第三張圖片與 label "
   ]
  },
  {
   "cell_type": "code",
   "execution_count": 9,
   "metadata": {},
   "outputs": [
    {
     "name": "stdout",
     "output_type": "stream",
     "text": [
      "Sandal\n"
     ]
    },
    {
     "data": {
      "text/plain": [
       "<matplotlib.image.AxesImage at 0x180bd2e80>"
      ]
     },
     "execution_count": 9,
     "metadata": {},
     "output_type": "execute_result"
    },
    {
     "data": {
      "image/png": "[encoded data removed]",
      "text/plain": [
       "<matplotlib.figure.Figure at 0x180b7b630>"
      ]
     },
     "metadata": {},
     "output_type": "display_data"
    }
   ],
   "source": [
    "img = np.array(image_list[59999]).reshape(28,28)\n",
    "print(label_dict[label_list[59999]])\n",
    "plt.imshow(img, cmap='gray')"
   ]
  },
  {
   "cell_type": "markdown",
   "metadata": {},
   "source": [
    "## 使用普通的 DNN 去訓練分類器\n",
    "- 訓練資料集 60000 張\n",
    "- 沒有驗證資料集"
   ]
  },
  {
   "cell_type": "code",
   "execution_count": 10,
   "metadata": {},
   "outputs": [
    {
     "data": {
      "text/plain": [
       "(60000, 784)"
      ]
     },
     "execution_count": 10,
     "metadata": {},
     "output_type": "execute_result"
    }
   ],
   "source": [
    "# test remove the last one image item\n",
    "x_train = np.array(image_list[:-1])\n",
    "x_train.shape"
   ]
  },
  {
   "cell_type": "code",
   "execution_count": 11,
   "metadata": {
    "collapsed": true
   },
   "outputs": [],
   "source": [
    "# normalization\n",
    "x_train = x_train.reshape(-1, 1, 28, 28)/255. # -1 代表 sample 的個數, 1 代表 channel 黑白照片只有 1 個 channel"
   ]
  },
  {
   "cell_type": "code",
   "execution_count": 12,
   "metadata": {},
   "outputs": [
    {
     "data": {
      "text/plain": [
       "(60000, 1, 28, 28)"
      ]
     },
     "execution_count": 12,
     "metadata": {},
     "output_type": "execute_result"
    }
   ],
   "source": [
    "x_train.shape"
   ]
  },
  {
   "cell_type": "code",
   "execution_count": 13,
   "metadata": {},
   "outputs": [
    {
     "data": {
      "text/plain": [
       "(60000,)"
      ]
     },
     "execution_count": 13,
     "metadata": {},
     "output_type": "execute_result"
    }
   ],
   "source": [
    "y_train = np.array(label_list[:-1])\n",
    "y_train.shape"
   ]
  },
  {
   "cell_type": "code",
   "execution_count": 15,
   "metadata": {},
   "outputs": [
    {
     "data": {
      "text/plain": [
       "array([ 0.,  1.,  0.,  0.,  0.,  0.,  0.,  0.,  0.,  0.])"
      ]
     },
     "execution_count": 15,
     "metadata": {},
     "output_type": "execute_result"
    }
   ],
   "source": [
    "y_train = np_utils.to_categorical(y_train, num_classes=10)\n",
    "y_train[example]"
   ]
  },
  {
   "cell_type": "code",
   "execution_count": 18,
   "metadata": {},
   "outputs": [],
   "source": [
    "## 建構 CNN 模型\n",
    "model = Sequential([\n",
    "    Conv2D(32, kernel_size=(5, 5), padding='same', input_shape=(1, 28, 28)),\n",
    "    Activation('relu'),\n",
    "    MaxPooling2D(padding='same', pool_size=(2, 2), strides=(2, 2)),\n",
    "    Conv2D(64, kernel_size=(5, 5), padding='same'),\n",
    "    Activation('relu'),\n",
    "    MaxPooling2D(padding='same', pool_size=(2, 2)),\n",
    "    Flatten(),\n",
    "    Dense(2048),\n",
    "    Activation('relu'),\n",
    "    Dense(10),\n",
    "    Activation('softmax'),\n",
    "])"
   ]
  },
  {
   "cell_type": "code",
   "execution_count": 19,
   "metadata": {
    "collapsed": true
   },
   "outputs": [],
   "source": [
    "## 設定優化器 optimizer 與評估函數 loss function 的種類\n",
    "# Another way to define your optimizer\n",
    "from keras.optimizers import Adam\n",
    "adam = Adam(lr=1e-4)  # lr = learning rate\n",
    "\n",
    "model.compile(optimizer=adam,\n",
    "              loss='categorical_crossentropy',\n",
    "              metrics=['accuracy'])\n",
    "\n",
    "# model.compile(optimizer='adam',\n",
    "#               loss='categorical_crossentropy',\n",
    "#               metrics=['accuracy'])"
   ]
  },
  {
   "cell_type": "code",
   "execution_count": 20,
   "metadata": {},
   "outputs": [
    {
     "name": "stdout",
     "output_type": "stream",
     "text": [
      "Epoch 1/5\n",
      "60000/60000 [==============================] - 26s - loss: 0.6641 - acc: 0.7648    \n",
      "Epoch 2/5\n",
      "60000/60000 [==============================] - 27s - loss: 0.4519 - acc: 0.8403    \n",
      "Epoch 3/5\n",
      "60000/60000 [==============================] - 27s - loss: 0.4001 - acc: 0.8582    \n",
      "Epoch 4/5\n",
      "60000/60000 [==============================] - 27s - loss: 0.3697 - acc: 0.8690    \n",
      "Epoch 5/5\n",
      "60000/60000 [==============================] - 27s - loss: 0.3488 - acc: 0.8740    \n"
     ]
    },
    {
     "data": {
      "text/plain": [
       "<keras.callbacks.History at 0x1817d3ac8>"
      ]
     },
     "execution_count": 20,
     "metadata": {},
     "output_type": "execute_result"
    }
   ],
   "source": [
    "## 開始訓練：設定 epochs 與 batch_size\n",
    "# epochs: the number of epochs to train the model\n",
    "# batch_size: Number of samples per gradient update\n",
    "model.fit(x_train, y_train, epochs=5, batch_size=32)"
   ]
  },
  {
   "cell_type": "markdown",
   "metadata": {},
   "source": [
    "## 修改訓練與驗證的 Dataset\n",
    "- 訓練資料集 50000 張圖片\n",
    "- 驗證資料集 10000 張圖片"
   ]
  },
  {
   "cell_type": "code",
   "execution_count": 21,
   "metadata": {
    "collapsed": true
   },
   "outputs": [],
   "source": [
    "# 訓練資料集 50000 張\n",
    "x_train = np.array(image_list[:-10001])\n",
    "y_train = np.array(label_list[:-10001])"
   ]
  },
  {
   "cell_type": "code",
   "execution_count": 22,
   "metadata": {},
   "outputs": [
    {
     "data": {
      "text/plain": [
       "(50000, 1, 28, 28)"
      ]
     },
     "execution_count": 22,
     "metadata": {},
     "output_type": "execute_result"
    }
   ],
   "source": [
    "# normalization\n",
    "x_train = x_train.reshape(-1, 1, 28, 28)/255. # -1 代表 sample 的個數, 1 代表 channel 黑白照片只有 1 個 channel\n",
    "x_train.shape"
   ]
  },
  {
   "cell_type": "code",
   "execution_count": 23,
   "metadata": {},
   "outputs": [
    {
     "data": {
      "text/plain": [
       "(50000, 10)"
      ]
     },
     "execution_count": 23,
     "metadata": {},
     "output_type": "execute_result"
    }
   ],
   "source": [
    "y_train = np_utils.to_categorical(y_train, num_classes=10)\n",
    "y_train.shape"
   ]
  },
  {
   "cell_type": "code",
   "execution_count": 24,
   "metadata": {
    "collapsed": true
   },
   "outputs": [],
   "source": [
    "# 驗證資料集 10000 張\n",
    "x_test = np.array(image_list[50000:-1])\n",
    "y_test = np.array(label_list[50000:-1])"
   ]
  },
  {
   "cell_type": "code",
   "execution_count": 25,
   "metadata": {},
   "outputs": [
    {
     "data": {
      "text/plain": [
       "(10000, 1, 28, 28)"
      ]
     },
     "execution_count": 25,
     "metadata": {},
     "output_type": "execute_result"
    }
   ],
   "source": [
    "# normalization\n",
    "x_test = x_test.reshape(-1, 1, 28, 28)/255. # -1 代表 sample 的個數, 1 代表 channel 黑白照片只有 1 個 channel\n",
    "x_test.shape"
   ]
  },
  {
   "cell_type": "code",
   "execution_count": 26,
   "metadata": {},
   "outputs": [
    {
     "data": {
      "text/plain": [
       "(10000, 10)"
      ]
     },
     "execution_count": 26,
     "metadata": {},
     "output_type": "execute_result"
    }
   ],
   "source": [
    "y_test = np_utils.to_categorical(y_test, num_classes=10)\n",
    "y_test.shape"
   ]
  },
  {
   "cell_type": "code",
   "execution_count": 27,
   "metadata": {
    "collapsed": true
   },
   "outputs": [],
   "source": [
    "## 建構 CNN 模型\n",
    "model = Sequential([\n",
    "    Conv2D(32, kernel_size=(5, 5), padding='same', input_shape=(1, 28, 28)),\n",
    "    Activation('relu'),\n",
    "    MaxPooling2D(padding='same', pool_size=(2, 2), strides=(2, 2)),\n",
    "    Conv2D(64, kernel_size=(5, 5), padding='same'),\n",
    "    Activation('relu'),\n",
    "    MaxPooling2D(padding='same', pool_size=(2, 2)),\n",
    "    Flatten(),\n",
    "    Dense(2048),\n",
    "    Activation('relu'),\n",
    "    Dense(10),\n",
    "    Activation('softmax'),\n",
    "])"
   ]
  },
  {
   "cell_type": "code",
   "execution_count": 28,
   "metadata": {
    "collapsed": true
   },
   "outputs": [],
   "source": [
    "## 設定優化器 optimizer 與評估函數 loss function 的種類\n",
    "# Another way to define your optimizer\n",
    "from keras.optimizers import Adam\n",
    "adam = Adam(lr=1e-4)  # lr = learning rate\n",
    "\n",
    "model.compile(optimizer=adam,\n",
    "              loss='categorical_crossentropy',\n",
    "              metrics=['accuracy'])\n",
    "\n",
    "# model.compile(optimizer='adam',\n",
    "#               loss='categorical_crossentropy',\n",
    "#               metrics=['accuracy'])"
   ]
  },
  {
   "cell_type": "code",
   "execution_count": 29,
   "metadata": {},
   "outputs": [
    {
     "name": "stdout",
     "output_type": "stream",
     "text": [
      "Epoch 1/5\n",
      "50000/50000 [==============================] - 20s - loss: 0.7003 - acc: 0.7562    \n",
      "Epoch 2/5\n",
      "50000/50000 [==============================] - 20s - loss: 0.4665 - acc: 0.8346    \n",
      "Epoch 3/5\n",
      "50000/50000 [==============================] - 20s - loss: 0.4125 - acc: 0.8544    \n",
      "Epoch 4/5\n",
      "50000/50000 [==============================] - 21s - loss: 0.3801 - acc: 0.8648    \n",
      "Epoch 5/5\n",
      "50000/50000 [==============================] - 21s - loss: 0.3572 - acc: 0.8717    \n"
     ]
    },
    {
     "data": {
      "text/plain": [
       "<keras.callbacks.History at 0x18278da58>"
      ]
     },
     "execution_count": 29,
     "metadata": {},
     "output_type": "execute_result"
    }
   ],
   "source": [
    "## 開始訓練：設定 epochs 與 batch_size\n",
    "# epochs: the number of epochs to train the model\n",
    "# batch_size: Number of samples per gradient update\n",
    "model.fit(x_train, y_train, epochs=5, batch_size=32)"
   ]
  },
  {
   "cell_type": "code",
   "execution_count": 30,
   "metadata": {},
   "outputs": [
    {
     "name": "stdout",
     "output_type": "stream",
     "text": [
      " 9728/10000 [============================>.] - ETA: 0s"
     ]
    }
   ],
   "source": [
    "## 印出在 testing dataset 的 loss 與 accuracy\n",
    "loss, accuracy = model.evaluate(x_test, y_test)"
   ]
  },
  {
   "cell_type": "code",
   "execution_count": 31,
   "metadata": {},
   "outputs": [
    {
     "name": "stdout",
     "output_type": "stream",
     "text": [
      "test loss: 0.402074413276\n",
      "test accuracy: 0.8492\n"
     ]
    }
   ],
   "source": [
    "print('test loss:', loss)\n",
    "print('test accuracy:', accuracy)"
   ]
  },
  {
   "cell_type": "markdown",
   "metadata": {},
   "source": [
    "#### 顯示測試資料的結果圖"
   ]
  },
  {
   "cell_type": "code",
   "execution_count": 32,
   "metadata": {},
   "outputs": [
    {
     "name": "stdout",
     "output_type": "stream",
     "text": [
      " 9856/10000 [============================>.] - ETA: 0s"
     ]
    }
   ],
   "source": [
    "# The predict_classes function outputs the highest probability class\n",
    "# according to the trained classifier for each input example.\n",
    "# 取得所有 test data 的分類結果分別屬於哪一個 Class \n",
    "predicted_classes = model.predict_classes(x_test)\n",
    "\n",
    "# Check which items we got right / wrong\n",
    "correct_indices = np.nonzero(predicted_classes == y_test.argmax(1))[0]\n",
    "incorrect_indices = np.nonzero(predicted_classes != y_test.argmax(1))[0]"
   ]
  },
  {
   "cell_type": "code",
   "execution_count": 33,
   "metadata": {},
   "outputs": [
    {
     "data": {
      "text/plain": [
       "array([9, 2, 1, 0, 2, 7, 9, 3, 1, 1])"
      ]
     },
     "execution_count": 33,
     "metadata": {},
     "output_type": "execute_result"
    }
   ],
   "source": [
    "# 印出前十筆分類結果查看\n",
    "predicted_classes[:10]"
   ]
  },
  {
   "cell_type": "code",
   "execution_count": 34,
   "metadata": {},
   "outputs": [
    {
     "data": {
      "text/plain": [
       "array([9, 2, 1, 0, 2, 7, 9, 3, 1, 1])"
      ]
     },
     "execution_count": 34,
     "metadata": {},
     "output_type": "execute_result"
    }
   ],
   "source": [
    "# 將 np_utils.to_categorical 轉回原形的方法\n",
    "y_test.argmax(1)[:10] # 印出前十筆資料"
   ]
  },
  {
   "cell_type": "code",
   "execution_count": 35,
   "metadata": {},
   "outputs": [
    {
     "data": {
      "image/png": "[encoded data removed]",
      "text/plain": [
       "<matplotlib.figure.Figure at 0x183b47198>"
      ]
     },
     "metadata": {},
     "output_type": "display_data"
    }
   ],
   "source": [
    "# 顯示分類正確的圖片\n",
    "plt.rcParams.update({'font.size': 8}) # 設定文字大小\n",
    "plt.figure()\n",
    "for i, correct in enumerate(correct_indices[:9]):\n",
    "    plt.subplot(3,3,i+1)\n",
    "    plt.imshow(x_test[correct].reshape(28,28), cmap='gray', interpolation='none')\n",
    "    plt.title(\"Predicted: {}\\n Class: {}\".format(label_dict[predicted_classes[correct]], label_dict[y_test.argmax(1)[correct]]),fontsize=8)\n",
    "plt.tight_layout() # 設定圖片排版"
   ]
  },
  {
   "cell_type": "code",
   "execution_count": 36,
   "metadata": {},
   "outputs": [
    {
     "data": {
      "image/png": "[encoded data removed]",
      "text/plain": [
       "<matplotlib.figure.Figure at 0x1839caf60>"
      ]
     },
     "metadata": {},
     "output_type": "display_data"
    }
   ],
   "source": [
    "# 顯示分類錯誤的圖片\n",
    "plt.rcParams.update({'font.size': 8}) # 設定文字大小\n",
    "plt.figure()\n",
    "for i, incorrect in enumerate(incorrect_indices[:9]):\n",
    "    plt.subplot(3,3,i+1)\n",
    "    plt.imshow(x_test[incorrect].reshape(28,28), cmap='gray', interpolation='none')\n",
    "    plt.title(\"Predicted: {}\\n Class: {}\".format(label_dict[predicted_classes[incorrect]], label_dict[y_test.argmax(1)[incorrect]]),fontsize=8)\n",
    "plt.tight_layout() # 設定圖片排版"
   ]
  },
  {
   "cell_type": "code",
   "execution_count": null,
   "metadata": {
    "collapsed": true
   },
   "outputs": [],
   "source": []
  }
 ],
 "metadata": {
  "kernelspec": {
   "display_name": "Python 3",
   "language": "python",
   "name": "python3"
  },
  "language_info": {
   "codemirror_mode": {
    "name": "ipython",
    "version": 3
   },
   "file_extension": ".py",
   "mimetype": "text/x-python",
   "name": "python",
   "nbconvert_exporter": "python",
   "pygments_lexer": "ipython3",
   "version": "3.6.1"
  }
 },
 "nbformat": 4,
 "nbformat_minor": 2
}

{
 "cells": [
  {
   "cell_type": "markdown",
   "metadata": {},
   "source": [
    "# ADLxMLDS HW0 Fashion MINST\n",
    "https://docs.google.com/presentation/d/1wDkt52UAdVyjhkSAGcvk8O9ZxjDvUNWlt3vHqSF1kWM/edit#slide=id.g2626a5ce99_0_12"
   ]
  },
  {
   "cell_type": "code",
   "execution_count": 202,
   "metadata": {},
   "outputs": [],
   "source": [
    "# coding=utf-8\n",
    "import keras\n",
    "from keras.utils import np_utils\n",
    "from keras.models import Sequential\n",
    "from keras.layers import Dense, Activation"
   ]
  },
  {
   "cell_type": "code",
   "execution_count": 194,
   "metadata": {
    "collapsed": true
   },
   "outputs": [],
   "source": [
    "import numpy as np\n",
    "import pandas as pd\n",
    "import matplotlib.pyplot as plt\n",
    "%matplotlib inline\n",
    "import binascii\n",
    "import random"
   ]
  },
  {
   "cell_type": "markdown",
   "metadata": {},
   "source": [
    "- Training data:\n",
    "    - train-images-idx3-ubyte.gz: training set images (60000 images)\n",
    "        - ignore first 16 bytes\n",
    "        - 784 bytes for each image (28*28)  -  0~255\n",
    "        - 60000 images\n",
    "        - same format in testing image file (10000 data)\n",
    "    - train-labels-idx1-ubyte.gz: training set labels (60000 labels)\n",
    "        - ignore first 8 bytes\n",
    "        - 60000 bytes for 60000 int  -  0~9\n",
    "        \n",
    "- Testing data:\n",
    "    - t10k-images-idx3-ubyte.gz: testing set images (10000 images)\n"
   ]
  },
  {
   "cell_type": "markdown",
   "metadata": {},
   "source": [
    "\n",
    "| Label  | Description    |\n",
    "|--------|----------------|\n",
    "| 0      | T-shirt / top  |\n",
    "| 1      | Trouser        |\n",
    "| 2      | Pullover       |\n",
    "| 3      | Dress          |\n",
    "| 4      | Coat           |\n",
    "| 5      | Sandal         |\n",
    "| 6      | Shirt          |\n",
    "| 7      | Sneaker        |\n",
    "| 8      | Bag            |\n",
    "| 9      | Ankle boot     |"
   ]
  },
  {
   "cell_type": "code",
   "execution_count": 170,
   "metadata": {},
   "outputs": [],
   "source": [
    "data_dir = \"data/\"\n",
    "file_list = [\"t10k-images-idx3-ubyte\", \"train-images-idx3-ubyte\", \"train-labels-idx1-ubyte\"]\n",
    "label_dict = {0:\"T-shirt / top\", 1:\"Trouser\", 2:\"Pullover\", 3:\"Dress\", 4: \"Coat\",\n",
    "             5:\"Sandal\", 6:\"Shirt\", 7:\"Sneaker\", 8:\"Bag\", 9:\"Ankle boot\"}\n",
    "\n",
    "# 讀取圖片資料\n",
    "image_list = []\n",
    "with open( data_dir + file_list[1] , \"rb\") as f:\n",
    "    byte = f.read(16) # ignore 16 byte\n",
    "    while byte != b\"\":\n",
    "        image = []\n",
    "        for i in range(784):\n",
    "            byte = f.read(1)\n",
    "            b = int.from_bytes(byte, byteorder='big')\n",
    "            image.append(b)\n",
    "        image_list.append(image)\n",
    "\n",
    "# 讀取 Label 資料\n",
    "label_list = []\n",
    "with open( data_dir + file_list[2] , \"rb\") as f:\n",
    "    byte = f.read(8) # ignore 8 byte\n",
    "    while byte != b\"\":\n",
    "        byte = f.read(1)\n",
    "        b = int.from_bytes(byte, byteorder='big')\n",
    "        label_list.append(b)"
   ]
  },
  {
   "cell_type": "code",
   "execution_count": 171,
   "metadata": {},
   "outputs": [],
   "source": [
    "byte =  binascii.hexlify(byte)"
   ]
  },
  {
   "cell_type": "code",
   "execution_count": 172,
   "metadata": {},
   "outputs": [
    {
     "data": {
      "text/plain": [
       "b''"
      ]
     },
     "execution_count": 172,
     "metadata": {},
     "output_type": "execute_result"
    }
   ],
   "source": [
    "byte"
   ]
  },
  {
   "cell_type": "code",
   "execution_count": 173,
   "metadata": {},
   "outputs": [
    {
     "data": {
      "text/plain": [
       "0"
      ]
     },
     "execution_count": 173,
     "metadata": {},
     "output_type": "execute_result"
    }
   ],
   "source": [
    "int.from_bytes(byte, byteorder='big')"
   ]
  },
  {
   "cell_type": "code",
   "execution_count": 188,
   "metadata": {},
   "outputs": [
    {
     "name": "stdout",
     "output_type": "stream",
     "text": [
      "60001\n",
      "60001\n"
     ]
    }
   ],
   "source": [
    "print(len(image_list))\n",
    "print(len(label_list))"
   ]
  },
  {
   "cell_type": "markdown",
   "metadata": {},
   "source": [
    "查看第一張圖片與 label "
   ]
  },
  {
   "cell_type": "code",
   "execution_count": 174,
   "metadata": {},
   "outputs": [
    {
     "data": {
      "text/plain": [
       "'Ankle boot'"
      ]
     },
     "execution_count": 174,
     "metadata": {},
     "output_type": "execute_result"
    }
   ],
   "source": [
    "img = np.array(image_list[0]).reshape(28,28)\n",
    "label_dict[label_list[0]]"
   ]
  },
  {
   "cell_type": "code",
   "execution_count": 175,
   "metadata": {},
   "outputs": [
    {
     "data": {
      "text/plain": [
       "<matplotlib.image.AxesImage at 0x116bbd198>"
      ]
     },
     "execution_count": 175,
     "metadata": {},
     "output_type": "execute_result"
    },
    {
     "data": {
      "image/png": "[encoded data removed]",
      "text/plain": [
       "<matplotlib.figure.Figure at 0x17faba940>"
      ]
     },
     "metadata": {},
     "output_type": "display_data"
    }
   ],
   "source": [
    "plt.imshow(img, cmap='gray')"
   ]
  },
  {
   "cell_type": "markdown",
   "metadata": {},
   "source": [
    "查看第二張圖片與 label "
   ]
  },
  {
   "cell_type": "code",
   "execution_count": 176,
   "metadata": {},
   "outputs": [
    {
     "data": {
      "text/plain": [
       "'T-shirt / top'"
      ]
     },
     "execution_count": 176,
     "metadata": {},
     "output_type": "execute_result"
    }
   ],
   "source": [
    "img = np.array(image_list[1]).reshape(28,28)\n",
    "label_dict[label_list[1]]"
   ]
  },
  {
   "cell_type": "code",
   "execution_count": 177,
   "metadata": {},
   "outputs": [
    {
     "data": {
      "text/plain": [
       "<matplotlib.image.AxesImage at 0x17f48f198>"
      ]
     },
     "execution_count": 177,
     "metadata": {},
     "output_type": "execute_result"
    },
    {
     "data": {
      "image/png": "[encoded data removed]",
      "text/plain": [
       "<matplotlib.figure.Figure at 0x17f3d3b70>"
      ]
     },
     "metadata": {},
     "output_type": "display_data"
    }
   ],
   "source": [
    "plt.imshow(img, cmap='gray')"
   ]
  },
  {
   "cell_type": "markdown",
   "metadata": {},
   "source": [
    "查看第三張圖片與 label "
   ]
  },
  {
   "cell_type": "code",
   "execution_count": 178,
   "metadata": {},
   "outputs": [
    {
     "name": "stdout",
     "output_type": "stream",
     "text": [
      "Sandal\n"
     ]
    },
    {
     "data": {
      "text/plain": [
       "<matplotlib.image.AxesImage at 0x180c916d8>"
      ]
     },
     "execution_count": 178,
     "metadata": {},
     "output_type": "execute_result"
    },
    {
     "data": {
      "image/png": "[encoded data removed]",
      "text/plain": [
       "<matplotlib.figure.Figure at 0x17f49d2e8>"
      ]
     },
     "metadata": {},
     "output_type": "display_data"
    }
   ],
   "source": [
    "img = np.array(image_list[59999]).reshape(28,28)\n",
    "print(label_dict[label_list[59999]])\n",
    "plt.imshow(img, cmap='gray')"
   ]
  },
  {
   "cell_type": "markdown",
   "metadata": {},
   "source": [
    "## 使用普通的 DNN 去訓練分類器\n",
    "- 訓練資料集 60000 張\n",
    "- 沒有驗證資料集"
   ]
  },
  {
   "cell_type": "code",
   "execution_count": 189,
   "metadata": {},
   "outputs": [
    {
     "data": {
      "text/plain": [
       "(60000, 784)"
      ]
     },
     "execution_count": 189,
     "metadata": {},
     "output_type": "execute_result"
    }
   ],
   "source": [
    "# test remove the last one image item\n",
    "image_list2 = np.array(image_list[:-1])\n",
    "image_list2.shape"
   ]
  },
  {
   "cell_type": "code",
   "execution_count": 190,
   "metadata": {
    "collapsed": true
   },
   "outputs": [],
   "source": [
    "# normalization\n",
    "x_train = image_list2 / 255."
   ]
  },
  {
   "cell_type": "code",
   "execution_count": 191,
   "metadata": {},
   "outputs": [
    {
     "data": {
      "text/plain": [
       "(60000, 784)"
      ]
     },
     "execution_count": 191,
     "metadata": {},
     "output_type": "execute_result"
    }
   ],
   "source": [
    "x_train.shape"
   ]
  },
  {
   "cell_type": "code",
   "execution_count": 192,
   "metadata": {},
   "outputs": [
    {
     "data": {
      "text/plain": [
       "(60000,)"
      ]
     },
     "execution_count": 192,
     "metadata": {},
     "output_type": "execute_result"
    }
   ],
   "source": [
    "y_train = np.array(label_list[:-1])\n",
    "y_train.shape"
   ]
  },
  {
   "cell_type": "code",
   "execution_count": 196,
   "metadata": {},
   "outputs": [
    {
     "data": {
      "image/png": "[encoded data removed]",
      "text/plain": [
       "<matplotlib.figure.Figure at 0x180d99438>"
      ]
     },
     "metadata": {},
     "output_type": "display_data"
    }
   ],
   "source": [
    "# 隨機印出一張圖片\n",
    "example = random.randint(1, len(x_train))\n",
    "plt.imshow(np.asarray(x_train[example].reshape(28,28)), cmap='gray')\n",
    "plt.show()"
   ]
  },
  {
   "cell_type": "code",
   "execution_count": 198,
   "metadata": {},
   "outputs": [
    {
     "data": {
      "text/plain": [
       "7"
      ]
     },
     "execution_count": 198,
     "metadata": {},
     "output_type": "execute_result"
    }
   ],
   "source": [
    "# 此圖片的 label 數字為\n",
    "y_train[example]"
   ]
  },
  {
   "cell_type": "code",
   "execution_count": 199,
   "metadata": {},
   "outputs": [
    {
     "data": {
      "text/plain": [
       "'Sneaker'"
      ]
     },
     "execution_count": 199,
     "metadata": {},
     "output_type": "execute_result"
    }
   ],
   "source": [
    "# label 名字為\n",
    "label_dict[y_train[example]]"
   ]
  },
  {
   "cell_type": "code",
   "execution_count": 203,
   "metadata": {},
   "outputs": [
    {
     "data": {
      "text/plain": [
       "array([ 0.,  0.,  0.,  0.,  0.,  0.,  0.,  1.,  0.,  0.])"
      ]
     },
     "execution_count": 203,
     "metadata": {},
     "output_type": "execute_result"
    }
   ],
   "source": [
    "y_train = np_utils.to_categorical(y_train, num_classes=10)\n",
    "y_train[example]"
   ]
  },
  {
   "cell_type": "code",
   "execution_count": 204,
   "metadata": {
    "collapsed": true
   },
   "outputs": [],
   "source": [
    "## 建構神經網路架構\n",
    "model = Sequential([\n",
    "    Dense(32, input_dim=784),  # 輸入參數為 784 (28*24)，hidden layer 有一層，有 32 個 nodes\n",
    "    Activation('relu'),\n",
    "    Dense(10),  # 最後的 ouput layer 有 10 個 nodes 對應到 10 個分類 (0~9)\n",
    "    Activation('softmax'),\n",
    "])"
   ]
  },
  {
   "cell_type": "code",
   "execution_count": 205,
   "metadata": {
    "collapsed": true
   },
   "outputs": [],
   "source": [
    "## 設定優化器 optimizer 與評估函數 loss function 的種類\n",
    "model.compile(\n",
    "              optimizer='adam',\n",
    "              loss='categorical_crossentropy',\n",
    "              metrics=['accuracy'])"
   ]
  },
  {
   "cell_type": "code",
   "execution_count": 206,
   "metadata": {},
   "outputs": [
    {
     "name": "stdout",
     "output_type": "stream",
     "text": [
      "Epoch 1/10\n",
      "60000/60000 [==============================] - 3s - loss: 0.5400 - acc: 0.8161     \n",
      "Epoch 2/10\n",
      "60000/60000 [==============================] - 3s - loss: 0.4100 - acc: 0.8547     \n",
      "Epoch 3/10\n",
      "60000/60000 [==============================] - 3s - loss: 0.3756 - acc: 0.8671     \n",
      "Epoch 4/10\n",
      "60000/60000 [==============================] - 3s - loss: 0.3575 - acc: 0.8724     \n",
      "Epoch 5/10\n",
      "60000/60000 [==============================] - 3s - loss: 0.3407 - acc: 0.8779     \n",
      "Epoch 6/10\n",
      "60000/60000 [==============================] - 3s - loss: 0.3298 - acc: 0.8811     \n",
      "Epoch 7/10\n",
      "60000/60000 [==============================] - 3s - loss: 0.3184 - acc: 0.8846     \n",
      "Epoch 8/10\n",
      "60000/60000 [==============================] - 3s - loss: 0.3117 - acc: 0.8866     \n",
      "Epoch 9/10\n",
      "60000/60000 [==============================] - 3s - loss: 0.3053 - acc: 0.8899     \n",
      "Epoch 10/10\n",
      "60000/60000 [==============================] - 3s - loss: 0.2977 - acc: 0.8931     \n"
     ]
    },
    {
     "data": {
      "text/plain": [
       "<keras.callbacks.History at 0x1c65e0550>"
      ]
     },
     "execution_count": 206,
     "metadata": {},
     "output_type": "execute_result"
    }
   ],
   "source": [
    "## 開始訓練：設定 epochs 與 batch_size\n",
    "# epochs: the number of epochs to train the model\n",
    "# batch_size: Number of samples per gradient update\n",
    "model.fit(x_train, y_train, epochs=10, batch_size=32)"
   ]
  },
  {
   "cell_type": "markdown",
   "metadata": {},
   "source": [
    "## 修改訓練與驗證的 Dataset\n",
    "- 訓練資料集 50000 張圖片\n",
    "- 驗證資料集 10000 張圖片"
   ]
  },
  {
   "cell_type": "code",
   "execution_count": 212,
   "metadata": {
    "collapsed": true
   },
   "outputs": [],
   "source": [
    "# 訓練資料集 50000 張\n",
    "x_train = np.array(image_list[:-10001])\n",
    "y_train = np.array(label_list[:-10001])"
   ]
  },
  {
   "cell_type": "code",
   "execution_count": 213,
   "metadata": {},
   "outputs": [
    {
     "data": {
      "text/plain": [
       "(50000, 784)"
      ]
     },
     "execution_count": 213,
     "metadata": {},
     "output_type": "execute_result"
    }
   ],
   "source": [
    "x_train = x_train / 255.\n",
    "x_train.shape"
   ]
  },
  {
   "cell_type": "code",
   "execution_count": 215,
   "metadata": {},
   "outputs": [
    {
     "data": {
      "text/plain": [
       "(50000, 10)"
      ]
     },
     "execution_count": 215,
     "metadata": {},
     "output_type": "execute_result"
    }
   ],
   "source": [
    "y_train = np_utils.to_categorical(y_train, num_classes=10)\n",
    "y_train.shape"
   ]
  },
  {
   "cell_type": "code",
   "execution_count": 216,
   "metadata": {
    "collapsed": true
   },
   "outputs": [],
   "source": [
    "# 驗證資料集 10000 張\n",
    "x_test = np.array(image_list[50000:-1])\n",
    "y_test = np.array(label_list[50000:-1])"
   ]
  },
  {
   "cell_type": "code",
   "execution_count": 211,
   "metadata": {},
   "outputs": [
    {
     "data": {
      "text/plain": [
       "(10000, 784)"
      ]
     },
     "execution_count": 211,
     "metadata": {},
     "output_type": "execute_result"
    }
   ],
   "source": [
    "x_test = x_test / 255.\n",
    "x_test.shape"
   ]
  },
  {
   "cell_type": "code",
   "execution_count": 217,
   "metadata": {},
   "outputs": [
    {
     "data": {
      "text/plain": [
       "(10000, 10)"
      ]
     },
     "execution_count": 217,
     "metadata": {},
     "output_type": "execute_result"
    }
   ],
   "source": [
    "y_test = np_utils.to_categorical(y_test, num_classes=10)\n",
    "y_test.shape"
   ]
  },
  {
   "cell_type": "code",
   "execution_count": 218,
   "metadata": {
    "collapsed": true
   },
   "outputs": [],
   "source": [
    "## 建構神經網路架構\n",
    "model = Sequential([\n",
    "    Dense(32, input_dim=784),  # 輸入參數為 784 (28*24)，hidden layer 有一層，有 32 個 nodes\n",
    "    Activation('relu'),\n",
    "    Dense(10),  # 最後的 ouput layer 有 10 個 nodes 對應到 10 個分類 (0~9)\n",
    "    Activation('softmax'),\n",
    "])"
   ]
  },
  {
   "cell_type": "code",
   "execution_count": 219,
   "metadata": {
    "collapsed": true
   },
   "outputs": [],
   "source": [
    "## 設定優化器 optimizer 與評估函數 loss function 的種類\n",
    "model.compile(\n",
    "              optimizer='adam',\n",
    "              loss='categorical_crossentropy',\n",
    "              metrics=['accuracy'])"
   ]
  },
  {
   "cell_type": "code",
   "execution_count": 220,
   "metadata": {},
   "outputs": [
    {
     "name": "stdout",
     "output_type": "stream",
     "text": [
      "Epoch 1/10\n",
      "50000/50000 [==============================] - 3s - loss: 0.5753 - acc: 0.8014     \n",
      "Epoch 2/10\n",
      "50000/50000 [==============================] - 2s - loss: 0.4262 - acc: 0.8516     \n",
      "Epoch 3/10\n",
      "50000/50000 [==============================] - 2s - loss: 0.3934 - acc: 0.8610     \n",
      "Epoch 4/10\n",
      "50000/50000 [==============================] - 2s - loss: 0.3704 - acc: 0.8682     \n",
      "Epoch 5/10\n",
      "50000/50000 [==============================] - 2s - loss: 0.3532 - acc: 0.8724     \n",
      "Epoch 6/10\n",
      "50000/50000 [==============================] - 2s - loss: 0.3427 - acc: 0.8770     \n",
      "Epoch 7/10\n",
      "50000/50000 [==============================] - 2s - loss: 0.3304 - acc: 0.8810     \n",
      "Epoch 8/10\n",
      "50000/50000 [==============================] - 3s - loss: 0.3214 - acc: 0.8840     \n",
      "Epoch 9/10\n",
      "50000/50000 [==============================] - 2s - loss: 0.3130 - acc: 0.8871     \n",
      "Epoch 10/10\n",
      "50000/50000 [==============================] - 2s - loss: 0.3064 - acc: 0.8890     \n"
     ]
    },
    {
     "data": {
      "text/plain": [
       "<keras.callbacks.History at 0x1ce828908>"
      ]
     },
     "execution_count": 220,
     "metadata": {},
     "output_type": "execute_result"
    }
   ],
   "source": [
    "## 開始訓練：設定 epochs 與 batch_size\n",
    "# epochs: the number of epochs to train the model\n",
    "# batch_size: Number of samples per gradient update\n",
    "model.fit(x_train, y_train, epochs=10, batch_size=32)"
   ]
  },
  {
   "cell_type": "code",
   "execution_count": 221,
   "metadata": {},
   "outputs": [
    {
     "name": "stdout",
     "output_type": "stream",
     "text": [
      " 8768/10000 [=========================>....] - ETA: 0s"
     ]
    }
   ],
   "source": [
    "## 印出在 testing dataset 的 loss 與 accuracy\n",
    "loss, accuracy = model.evaluate(x_test, y_test)"
   ]
  },
  {
   "cell_type": "code",
   "execution_count": 222,
   "metadata": {},
   "outputs": [
    {
     "name": "stdout",
     "output_type": "stream",
     "text": [
      "test loss: 2.74028904381\n",
      "test accuracy: 0.8273\n"
     ]
    }
   ],
   "source": [
    "print('test loss:', loss)\n",
    "print('test accuracy:', accuracy)"
   ]
  },
  {
   "cell_type": "markdown",
   "metadata": {},
   "source": [
    "#### 顯示測試資料的結果圖"
   ]
  },
  {
   "cell_type": "code",
   "execution_count": 223,
   "metadata": {},
   "outputs": [
    {
     "name": "stdout",
     "output_type": "stream",
     "text": [
      " 9696/10000 [============================>.] - ETA: 0s"
     ]
    }
   ],
   "source": [
    "# The predict_classes function outputs the highest probability class\n",
    "# according to the trained classifier for each input example.\n",
    "# 取得所有 test data 的分類結果分別屬於哪一個 Class \n",
    "predicted_classes = model.predict_classes(x_test)\n",
    "\n",
    "# Check which items we got right / wrong\n",
    "correct_indices = np.nonzero(predicted_classes == y_test.argmax(1))[0]\n",
    "incorrect_indices = np.nonzero(predicted_classes != y_test.argmax(1))[0]"
   ]
  },
  {
   "cell_type": "code",
   "execution_count": 224,
   "metadata": {},
   "outputs": [
    {
     "data": {
      "text/plain": [
       "array([9, 2, 1, 0, 2, 7, 9, 3, 1, 1])"
      ]
     },
     "execution_count": 224,
     "metadata": {},
     "output_type": "execute_result"
    }
   ],
   "source": [
    "# 印出前十筆分類結果查看\n",
    "predicted_classes[:10]"
   ]
  },
  {
   "cell_type": "code",
   "execution_count": 225,
   "metadata": {},
   "outputs": [
    {
     "data": {
      "text/plain": [
       "array([9, 2, 1, 0, 2, 7, 9, 3, 1, 1])"
      ]
     },
     "execution_count": 225,
     "metadata": {},
     "output_type": "execute_result"
    }
   ],
   "source": [
    "# 將 np_utils.to_categorical 轉回原形的方法\n",
    "y_test.argmax(1)[:10] # 印出前十筆資料"
   ]
  },
  {
   "cell_type": "code",
   "execution_count": 230,
   "metadata": {},
   "outputs": [
    {
     "data": {
      "image/png": "[encoded data removed]",
      "text/plain": [
       "<matplotlib.figure.Figure at 0x1cf3545c0>"
      ]
     },
     "metadata": {},
     "output_type": "display_data"
    }
   ],
   "source": [
    "# 顯示分類正確的圖片\n",
    "plt.rcParams.update({'font.size': 8}) # 設定文字大小\n",
    "plt.figure()\n",
    "for i, correct in enumerate(correct_indices[:9]):\n",
    "    plt.subplot(3,3,i+1)\n",
    "    plt.imshow(x_test[correct].reshape(28,28), cmap='gray', interpolation='none')\n",
    "    plt.title(\"Predicted: {}\\n Class: {}\".format(label_dict[predicted_classes[correct]], label_dict[y_test.argmax(1)[correct]]),fontsize=8)\n",
    "plt.tight_layout() # 設定圖片排版"
   ]
  },
  {
   "cell_type": "code",
   "execution_count": 231,
   "metadata": {},
   "outputs": [
    {
     "data": {
      "image/png": "[encoded data removed]",
      "text/plain": [
       "<matplotlib.figure.Figure at 0x1cf3546a0>"
      ]
     },
     "metadata": {},
     "output_type": "display_data"
    }
   ],
   "source": [
    "# 顯示分類錯誤的圖片\n",
    "plt.rcParams.update({'font.size': 8}) # 設定文字大小\n",
    "plt.figure()\n",
    "for i, incorrect in enumerate(incorrect_indices[:9]):\n",
    "    plt.subplot(3,3,i+1)\n",
    "    plt.imshow(x_test[incorrect].reshape(28,28), cmap='gray', interpolation='none')\n",
    "    plt.title(\"Predicted: {}\\n Class: {}\".format(label_dict[predicted_classes[incorrect]], label_dict[y_test.argmax(1)[incorrect]]),fontsize=8)\n",
    "plt.tight_layout() # 設定圖片排版"
   ]
  },
  {
   "cell_type": "code",
   "execution_count": null,
   "metadata": {
    "collapsed": true
   },
   "outputs": [],
   "source": []
  }
 ],
 "metadata": {
  "kernelspec": {
   "display_name": "Python 3",
   "language": "python",
   "name": "python3"
  },
  "language_info": {
   "codemirror_mode": {
    "name": "ipython",
    "version": 3
   },
   "file_extension": ".py",
   "mimetype": "text/x-python",
   "name": "python",
   "nbconvert_exporter": "python",
   "pygments_lexer": "ipython3",
   "version": "3.6.1"
  }
 },
 "nbformat": 4,
 "nbformat_minor": 2
}
